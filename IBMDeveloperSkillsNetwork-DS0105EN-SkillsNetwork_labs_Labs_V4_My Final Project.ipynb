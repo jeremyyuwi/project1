{
  "metadata": {
    "language_info": {
      "name": ""
    },
    "kernelspec": {
      "name": "python",
      "display_name": "Python (Pyodide)",
      "language": "python"
    }
  },
  "nbformat_minor": 4,
  "nbformat": 4,
  "cells": [
    {
      "cell_type": "markdown",
      "source": "# My Final Project",
      "metadata": {}
    },
    {
      "cell_type": "markdown",
      "source": "## Introduction\n\n## This project is my final project for the Coursera Data Science Course",
      "metadata": {}
    },
    {
      "cell_type": "markdown",
      "source": "## List of data science languages\n1. Python\n2. R\n3. SQL \n4. JAVA\n5. C++",
      "metadata": {}
    },
    {
      "cell_type": "markdown",
      "source": "## List of data science libraries\n1. TensorFlow\n2. Numpy\n3. Pandas\n4. SciPy\n5. Matplotlib",
      "metadata": {}
    },
    {
      "cell_type": "markdown",
      "source": "## Data Science tools\n\n| Data Science | Tool |\n| -------------| ------ |\n| Apache Spark | D3.js |\n| IBM SPSS | Jupyter Notebook |\n| Keras | Matlab |",
      "metadata": {}
    },
    {
      "cell_type": "markdown",
      "source": "## Exercise 7 - Create a markdown cell introducing arithmetic expression examples. (1 pt)",
      "metadata": {}
    },
    {
      "cell_type": "markdown",
      "source": "## Exercise 8 - Create a code cell to multiply and add numbers. (2 pts)",
      "metadata": {}
    },
    {
      "cell_type": "code",
      "source": "a = 4\nb = 2\nc = a + b\nprint (c)",
      "metadata": {
        "trusted": true
      },
      "execution_count": null,
      "outputs": []
    },
    {
      "cell_type": "code",
      "source": "a = 4\nb = 2\nc = a * b\nprint(c)",
      "metadata": {
        "trusted": true
      },
      "execution_count": null,
      "outputs": []
    },
    {
      "cell_type": "markdown",
      "source": "## Exercise 9 - Create a code cell to convert minutes to hours. (2 pts)",
      "metadata": {}
    },
    {
      "cell_type": "code",
      "source": "minutes = 330 % 6\nhours = 330 // 60",
      "metadata": {
        "trusted": true
      },
      "execution_count": null,
      "outputs": []
    },
    {
      "cell_type": "markdown",
      "source": "## Exercise 10 -Insert a markdown cell to list Objectives. (3 pts)",
      "metadata": {}
    },
    {
      "cell_type": "markdown",
      "source": "## Data Science Objectives\n1. Explore Data\n2. Sort Data\n3. Analyze Data",
      "metadata": {}
    },
    {
      "cell_type": "markdown",
      "source": "## Exercise 11 - Create a markdown cell to indicate the Author’s name. (2 pts)",
      "metadata": {}
    },
    {
      "cell_type": "markdown",
      "source": "# Author\n\n### Qiyang Zhang",
      "metadata": {}
    },
    {
      "cell_type": "markdown",
      "source": "## Exercise 12 - Share your notebook through GitHub (3 pts)",
      "metadata": {}
    },
    {
      "cell_type": "markdown",
      "source": "## Exercise 13 - Take a screenshot of the first page of the notebook. (1 pt)",
      "metadata": {}
    }
  ]
}